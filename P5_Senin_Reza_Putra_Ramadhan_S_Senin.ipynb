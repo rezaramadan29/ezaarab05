{
  "nbformat": 4,
  "nbformat_minor": 0,
  "metadata": {
    "colab": {
      "provenance": [],
      "authorship_tag": "ABX9TyNspS2TsJy35z/YKe7YHepd",
      "include_colab_link": true
    },
    "kernelspec": {
      "name": "python3",
      "display_name": "Python 3"
    },
    "language_info": {
      "name": "python"
    }
  },
  "cells": [
    {
      "cell_type": "markdown",
      "metadata": {
        "id": "view-in-github",
        "colab_type": "text"
      },
      "source": [
        "<a href=\"https://colab.research.google.com/github/rezaramadan29/ezaarab05/blob/main/P5_Senin_Reza_Putra_Ramadhan_S_Senin.ipynb\" target=\"_parent\"><img src=\"https://colab.research.google.com/assets/colab-badge.svg\" alt=\"Open In Colab\"/></a>"
      ]
    },
    {
      "cell_type": "code",
      "execution_count": 3,
      "metadata": {
        "colab": {
          "base_uri": "https://localhost:8080/"
        },
        "id": "Yx2sEJ0F12oG",
        "outputId": "15dd6a96-0554-4036-ce74-243a792d21a6"
      },
      "outputs": [
        {
          "output_type": "stream",
          "name": "stdout",
          "text": [
            "Hello, World!\n"
          ]
        }
      ],
      "source": [
        "#Program Helloworld\n",
        "# Mencetak Helllo, World! ke layar\n",
        "#KAMUS\n",
        "#belum diperlukan\n",
        "#ALGORITMA\n",
        "print('Hello, World!')"
      ]
    },
    {
      "cell_type": "code",
      "source": [
        "# Program Test\n",
        " # Spesifikasi : Menghitung nilai A dan B\n",
        " # KAMUS\n",
        " # A : int\n",
        " # B : int\n",
        " # ALGORITMA\n",
        " A = int(input())                     # input\n",
        " B = int(input())\n",
        " A = A + B                            # proses\n",
        " print(A)                                 #output\n",
        " print(B"
      ],
      "metadata": {
        "id": "V7EfiCBiEX2-"
      },
      "execution_count": null,
      "outputs": []
    },
    {
      "cell_type": "code",
      "source": [
        "print"
      ],
      "metadata": {
        "id": "6HAOw-7bG-nd"
      },
      "execution_count": null,
      "outputs": []
    }
  ]
}